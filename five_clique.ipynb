{
 "cells": [
  {
   "cell_type": "markdown",
   "id": "ce619953-0d73-4fac-8b6a-3d8cbd9b6bab",
   "metadata": {},
   "source": [
    "# Five Clique\n",
    "This notebook solves a problem from one of Matt Parker's YouTube videos: https://www.youtube.com/watch?v=_-AfhLQfb6w\n",
    "\n",
    "The problem is to find 5 words with 5 letters each, and all letters have to be unique.\n",
    "\n",
    "I've implemented some of the fast methods mentioned near the end of the video to achieve a runtime of less than one minute in Python.\n",
    "\n",
    "This solution finds all possible combinations of words at the cost of being sub-optimal, but it's still pretty fast!\n",
    "<span style=\"font-size:1.44em;line-height:0\">🏎️</span>"
   ]
  },
  {
   "cell_type": "markdown",
   "id": "b437849d-a3c0-4b4f-bbdb-11c0369e3e7d",
   "metadata": {
    "tags": []
   },
   "source": [
    "#### **Configuration:**"
   ]
  },
  {
   "cell_type": "markdown",
   "id": "3476cd76-f4d7-49dd-9476-85f25c61ad2d",
   "metadata": {
    "tags": []
   },
   "source": [
    "##### **Select which word dataset to use:**\n",
    "\n",
    "0. words_alpha.txt from https://github.com/dwyl/english-words\n",
    "1. unigram_freq.csv from https://www.kaggle.com/datasets/rtatman/english-word-frequency"
   ]
  },
  {
   "cell_type": "code",
   "execution_count": 1,
   "id": "7fb448fa-17fb-4ab1-b58b-ba07a5bc7815",
   "metadata": {},
   "outputs": [],
   "source": [
    "dataset = 0"
   ]
  },
  {
   "cell_type": "markdown",
   "id": "3c29c8fb-cabd-410a-88c7-cc0379194427",
   "metadata": {
    "jp-MarkdownHeadingCollapsed": true,
    "tags": []
   },
   "source": [
    "#### Setup:"
   ]
  },
  {
   "cell_type": "markdown",
   "id": "eb29f1b4-deea-45ae-b610-c86043954f68",
   "metadata": {
    "jp-MarkdownHeadingCollapsed": true,
    "tags": []
   },
   "source": [
    "##### **Imports:**"
   ]
  },
  {
   "cell_type": "code",
   "execution_count": 2,
   "id": "e6816e93-7d8e-4a2a-84e9-0508c6d25d51",
   "metadata": {},
   "outputs": [],
   "source": [
    "from time import time\n",
    "from math import floor\n",
    "from collections import Counter\n",
    "from IPython.display import clear_output"
   ]
  },
  {
   "cell_type": "markdown",
   "id": "f71e10a7-cba7-42e1-83c0-c502d4cbb739",
   "metadata": {
    "jp-MarkdownHeadingCollapsed": true,
    "tags": []
   },
   "source": [
    "##### **Start a timer.**"
   ]
  },
  {
   "cell_type": "code",
   "execution_count": 3,
   "id": "81291d60-6d47-4939-ab0f-390a24aacd66",
   "metadata": {},
   "outputs": [],
   "source": [
    "class Timer:\n",
    "    def __init__(self):\n",
    "        self.start = time()\n",
    "    \n",
    "    def __str__(self):\n",
    "        seconds = time() - self.start\n",
    "        if seconds < 10:\n",
    "            return 'Time: {:d} ms'.format(floor(seconds * 1000))\n",
    "        seconds = floor(seconds)\n",
    "        if seconds < 60:\n",
    "            return 'Time: {:d} s'.format(seconds)\n",
    "        minutes, seconds = divmod(seconds, 60)\n",
    "        if minutes < 60:\n",
    "            return 'Time: {:d}:{:0>2d}'.format(minutes, seconds)\n",
    "        hours, minutes = divmod(minutes, 60)\n",
    "        return 'Time: {:d}:{:0>2d}:{:0>2d}'.format(hours, minutes, seconds)\n",
    "\n",
    "timer = Timer()"
   ]
  },
  {
   "cell_type": "markdown",
   "id": "d50bc154-23b7-4425-bf55-09acc41f0b17",
   "metadata": {},
   "source": [
    "##### **Load 5-letter words with unique letters.**"
   ]
  },
  {
   "cell_type": "code",
   "execution_count": 4,
   "id": "acafbe71-0f18-41fc-8a0c-3e9cfbe7e42f",
   "metadata": {},
   "outputs": [
    {
     "name": "stdout",
     "output_type": "stream",
     "text": [
      "Using dataset words_alpha.txt\n",
      "Unfiltered: 370105\n",
      "5-letters: 15920\n",
      "Unique letters: 10175\n",
      "Time: 100 ms\n"
     ]
    }
   ],
   "source": [
    "match dataset:\n",
    "    case 0:\n",
    "        print('Using dataset words_alpha.txt')\n",
    "        with open('words_alpha.txt') as file:\n",
    "            words = file.read().split()\n",
    "    case 1:\n",
    "        print('Using dataset unigram_freq.csv')\n",
    "        with open('unigram_freq.csv') as file:\n",
    "            words = [item.split(',')[0] for item in file.read().split()]\n",
    "    case _:\n",
    "        raise ValueError('Invalid dataset')\n",
    "print('Unfiltered:', len(words))\n",
    "\n",
    "words = [word.upper() for word in words if len(word) == 5]\n",
    "print('5-letters:', len(words))\n",
    "\n",
    "words = [word for word in words if len(set(word)) == 5]\n",
    "print('Unique letters:', len(words))\n",
    "\n",
    "if dataset == 1:\n",
    "    print('Using only the 5000 most common words based on frequency data')\n",
    "    words = words[:5000]\n",
    "\n",
    "print(timer)"
   ]
  },
  {
   "cell_type": "markdown",
   "id": "ac850018-015d-4d9c-92ec-94bc42877f15",
   "metadata": {},
   "source": [
    "##### **Construct an alphabet with the lowest frequency characters first.**"
   ]
  },
  {
   "cell_type": "code",
   "execution_count": 5,
   "id": "f9b3fd97-700c-472d-99c2-3bed5c542155",
   "metadata": {},
   "outputs": [
    {
     "name": "stdout",
     "output_type": "stream",
     "text": [
      "Alphabet: QJXZVFWKBGPMHYDCUNTLOIRSEA\n",
      "Time: 117 ms\n"
     ]
    }
   ],
   "source": [
    "freqs = Counter(char for word in words for char in word)\n",
    "alphabet = ''.join([char for char, freq in reversed(freqs.most_common())])\n",
    "print('Alphabet:', alphabet)\n",
    "print(timer)"
   ]
  },
  {
   "cell_type": "markdown",
   "id": "f3dd1ebd-61d4-4f1b-9c08-7e9e2e0b577c",
   "metadata": {},
   "source": [
    "##### **Function to get the position of the first character in the alphabet from a code:**"
   ]
  },
  {
   "cell_type": "code",
   "execution_count": 6,
   "id": "0c4cbc8e-0e4d-4eed-bf04-3adb0d8eb06d",
   "metadata": {},
   "outputs": [],
   "source": [
    "def first_char(code):\n",
    "    return (code & -code).bit_length() - 1"
   ]
  },
  {
   "cell_type": "markdown",
   "id": "90492179-82d2-44d6-8f42-5051b52aca60",
   "metadata": {},
   "source": [
    "##### **Convert the words to order-independent binary codes based on the alphabet.**"
   ]
  },
  {
   "cell_type": "code",
   "execution_count": 7,
   "id": "3a0a4e41-1282-4e6a-ba30-2d9975dbdeae",
   "metadata": {},
   "outputs": [
    {
     "name": "stdout",
     "output_type": "stream",
     "text": [
      "Time: 169 ms\n"
     ]
    }
   ],
   "source": [
    "codes = [[] for _ in range(22)]\n",
    "for i, word in enumerate(words):\n",
    "    code = sum([1 << alphabet.index(char) for char in word])\n",
    "    first = first_char(code)\n",
    "    codes[first].append((code, i))\n",
    "print(timer)"
   ]
  },
  {
   "cell_type": "markdown",
   "id": "dc1db032-2422-4959-9f4a-b20c5c17b706",
   "metadata": {},
   "source": [
    "##### **Functions to get codes for the next word:**"
   ]
  },
  {
   "cell_type": "code",
   "execution_count": 8,
   "id": "396d8246-1325-45ff-be7b-31c7b79be3e7",
   "metadata": {},
   "outputs": [],
   "source": [
    "def next_codes(code):\n",
    "    global codes\n",
    "    first_missing = first_char(~code)\n",
    "    return filter(lambda item: code & item[0] == 0, codes[first_missing])\n",
    "\n",
    "def skip_codes(code):\n",
    "    global codes\n",
    "    first_missing = first_char(~code)\n",
    "    second_missing = first_char(~(code + (1 << first_missing)))\n",
    "    return filter(lambda item: code & item[0] == 0, codes[second_missing])"
   ]
  },
  {
   "cell_type": "markdown",
   "id": "87bb2ace-71fd-4698-909f-5895039039f5",
   "metadata": {},
   "source": [
    "##### **Function to add all possible next words for all sequences:**"
   ]
  },
  {
   "cell_type": "code",
   "execution_count": 9,
   "id": "ee5a7c82-2989-4620-9071-0c8bb2ee9286",
   "metadata": {},
   "outputs": [],
   "source": [
    "def add_word(prev, name):\n",
    "    global timer\n",
    "    progress = 0\n",
    "    last_update = time()\n",
    "    new = []\n",
    "    for code1, skip, *i1s in prev:\n",
    "        for code2, i2 in skip_codes(code1):\n",
    "            new.append((code1 + code2, True, *i1s, i2))\n",
    "        if not skip:\n",
    "            for code2, i2 in next_codes(code1):\n",
    "                new.append((code1 + code2, False, *i1s, i2))\n",
    "        progress += 1\n",
    "        if time() - last_update > 0.1:\n",
    "            last_update += 0.1\n",
    "            clear_output(wait=True)\n",
    "            print('Progress: {} / {} ({:.1%})'.format(progress, len(prev), progress / len(prev)))\n",
    "            print('{}:'.format(name), len(new))\n",
    "            print(timer)\n",
    "    clear_output(wait=True)\n",
    "    print('{}:'.format(name), len(new))\n",
    "    print(timer)\n",
    "    return new"
   ]
  },
  {
   "cell_type": "markdown",
   "id": "1e3c435c-abfc-4bd9-b005-659a171d9c66",
   "metadata": {
    "tags": []
   },
   "source": [
    "#### Processing:"
   ]
  },
  {
   "cell_type": "markdown",
   "id": "7d91879b-e7af-4572-8c08-0afd141038fe",
   "metadata": {
    "tags": []
   },
   "source": [
    "##### **Build every possible sequence.**"
   ]
  },
  {
   "cell_type": "code",
   "execution_count": 10,
   "id": "3df0d8ca-0ab6-4d7b-a099-4c1103c2bd3e",
   "metadata": {},
   "outputs": [
    {
     "name": "stdout",
     "output_type": "stream",
     "text": [
      "Ones: 361\n",
      "Time: 205 ms\n"
     ]
    }
   ],
   "source": [
    "ones = add_word([(0, False)], 'Ones')"
   ]
  },
  {
   "cell_type": "code",
   "execution_count": 11,
   "id": "cdfad90a-3190-4aa1-8074-b95a4597b009",
   "metadata": {},
   "outputs": [
    {
     "name": "stdout",
     "output_type": "stream",
     "text": [
      "Twos: 26241\n",
      "Time: 278 ms\n"
     ]
    }
   ],
   "source": [
    "twos = add_word(ones, 'Twos')"
   ]
  },
  {
   "cell_type": "code",
   "execution_count": 12,
   "id": "1e8d68b7-6180-4596-a670-107c53f85abf",
   "metadata": {},
   "outputs": [
    {
     "name": "stdout",
     "output_type": "stream",
     "text": [
      "Threes: 174458\n",
      "Time: 1560 ms\n"
     ]
    }
   ],
   "source": [
    "threes = add_word(twos, 'Threes')"
   ]
  },
  {
   "cell_type": "code",
   "execution_count": 13,
   "id": "774c8c76-1c0c-49cc-9eee-087f3da75771",
   "metadata": {},
   "outputs": [
    {
     "name": "stdout",
     "output_type": "stream",
     "text": [
      "Fours: 74033\n",
      "Time: 17 s\n"
     ]
    }
   ],
   "source": [
    "fours = add_word(threes, 'Fours')"
   ]
  },
  {
   "cell_type": "code",
   "execution_count": 14,
   "id": "5a379793-d218-4f13-9ce9-c190c0aa2d69",
   "metadata": {},
   "outputs": [
    {
     "name": "stdout",
     "output_type": "stream",
     "text": [
      "Fives: 831\n",
      "Time: 27 s\n"
     ]
    }
   ],
   "source": [
    "fives = [' '.join(words[i] for i in idxs) for _, _, *idxs in add_word(fours, 'Fives')]"
   ]
  },
  {
   "cell_type": "markdown",
   "id": "83148292-f1fd-456a-9bdf-e60ba50be86f",
   "metadata": {
    "tags": []
   },
   "source": [
    "#### **Output:**"
   ]
  },
  {
   "cell_type": "markdown",
   "id": "d38e7a6b-902f-4771-907f-47b83f0c2438",
   "metadata": {
    "tags": []
   },
   "source": [
    "##### **Display the first 100 sequences.**"
   ]
  },
  {
   "cell_type": "code",
   "execution_count": 15,
   "id": "38376ac9-e1d7-4c30-a97f-dfeba0dd9275",
   "metadata": {},
   "outputs": [
    {
     "name": "stdout",
     "output_type": "stream",
     "text": [
      "BEJAN FLDXT GROSZ VICKY WHUMP\n",
      "BEJIG FLDXT KNYAZ SUPVR MOWCH\n",
      "BEJIG FLDXT KNYAZ VROWS CHUMP\n",
      "BENJY FLDXT GIZMO SUPVR CHAWK\n",
      "BENJY FLDXT GIZMO SUPVR WHACK\n",
      "BENJY FLDXT GROSZ AVICK WHUMP\n",
      "BENJY FLDXT OGHUZ VAMPS WRICK\n",
      "BENJY FLDXT VIZOR GAWKS CHUMP\n",
      "BENJY FLDXT VIZOR WHAMP GUCKS\n",
      "BRUJA FLDXT ZYGON CHIVW KEMPS\n",
      "BRUJA FLDXT ZYGON CHIVW SKEMP\n",
      "FJELD AMPYX BORTZ CHIVW GUNKS\n",
      "FJORD EXPWY KLUTZ VANGS CHIMB\n",
      "FJORD PBXES KLUTZ CHIVW MANGY\n",
      "FJORD PBXES MUNTZ CHIVW GLAKY\n",
      "FJORD VIBEX MUNTZ SWACK GLYPH\n",
      "FJORD VIBEX MUNTZ WACKS GLYPH\n",
      "FJORD VIBEX WALTZ GUCKS NYMPH\n",
      "JACKY FLDXT GINZO VERBS WHUMP\n",
      "JACKY FLDXT GROSZ VINEW BUMPH\n",
      "JACKY FLDXT ZINGS BEVOR WHUMP\n",
      "JACKY FLDXT ZINGS VOWER BUMPH\n",
      "JACKY PBXES FULTZ MORDV WHING\n",
      "JACKY PBXES ZHMUD VINGT FROWL\n",
      "JACKO FLDXT ZINGY VERBS WHUMP\n",
      "JACKO FLDXT ZINGS VERBY WHUMP\n",
      "JACKO FLDXT ZINGS WYVER BUMPH\n",
      "JACKS FLDXT BIZEN GROVY WHUMP\n",
      "JACKS FLDXT BUREZ VYING WHOMP\n",
      "JACKS FLDXT GINZO VERBY WHUMP\n",
      "JACKS FLDXT GINZO WYVER BUMPH\n",
      "JACKS FLDXT WINZE GROVY BUMPH\n",
      "JACKS FLDXT WIZEN GROVY BUMPH\n",
      "JACKS FLDXT ZYGON BREVI WHUMP\n",
      "JACKS FLDXT ZYGON WIVER BUMPH\n",
      "JACKS FLDXT ZYGON WRIVE BUMPH\n",
      "JACKS FLDXT ZINEB GROVY WHUMP\n",
      "JACKS FLDXT ZINGY BEVOR WHUMP\n",
      "JACKS FLDXT ZINGY VOWER BUMPH\n",
      "JAHVE FLDXT ZYGON WRICK BUMPS\n",
      "JAKOB FLDXT ENZYM CHIVW SPRUG\n",
      "JAKOB FLDXT ZINGS WYVER CHUMP\n",
      "JAMBE FLDXT GROSZ CHIVW PUNKY\n",
      "JAMBE FLDXT ZYGON SUPVR WHICK\n",
      "JAMBE FLDXT ZINGY SUPVR CHOWK\n",
      "JAMBS EXPDT FURZY CHIVW KLONG\n",
      "JAMBS EXPDT FURZY GCONV WHILK\n",
      "JAMBS EXPWY FULTZ GCONV DHIKR\n",
      "JAMBS FLDXT ZYGON CHIVW PUKER\n",
      "JAPYX BORTZ CHIVW FLEGM DUNKS\n",
      "JAPYX FRITZ GCONV WHELK DUMBS\n",
      "JAPYX FULTZ MORDV WHING BECKS\n",
      "JAPYX KLUTZ CHIVW FREMD BONGS\n",
      "JAPYX MUNTZ BOVLD FRECK WHIGS\n",
      "JAPYX WINDZ THRUV FLEGM BOCKS\n",
      "JAPYX WINDZ VUGHS FREMT BLOCK\n",
      "JAPYX ZHMUD FCONV GREWT BILKS\n",
      "JAPYX ZHMUD VERBS FLONG TWICK\n",
      "JAPYX ZHMUD VINGT FLECK BROWS\n",
      "JAPYX ZHMUD VINGT FLEWS BROCK\n",
      "JAPYX ZHMUD VINGT FLOCK BREWS\n",
      "JAPYX ZHMUD VINGT FLOWS BRECK\n",
      "JAPYX ZHMUD VINGT FOWLS BRECK\n",
      "JAPYX ZHMUD VINGT FRECK BLOWS\n",
      "JAPYX ZHMUD VINGT FRECK BOWLS\n",
      "JAPYX ZHMUD VINGT FROWL BECKS\n",
      "JAPYX ZHMUD VINGT FROWS BLECK\n",
      "JAPYX ZHMUD VINGT WOLFS BRECK\n",
      "JARVY FLDXT BIZEN GOWKS CHUMP\n",
      "JARVY FLDXT BIZEN WHOMP GUCKS\n",
      "JARVY FLDXT GINZO WHUMP BECKS\n",
      "JARVY FLDXT UZBEG KNOWS CHIMP\n",
      "JARVY FLDXT UZBEG MOWCH PINKS\n",
      "JARVY FLDXT UZBEG MOWCH SPINK\n",
      "JARVY FLDXT UZBEG NOWCH SKIMP\n",
      "JARVY FLDXT UZBEG SNOWK CHIMP\n",
      "JARVY FLDXT UZBEG SWINK CHOMP\n",
      "JARVY FLDXT UZBEG SWONK CHIMP\n",
      "JARVY FLDXT UZBEG WHOMP NICKS\n",
      "JARVY FLDXT UZBEG WHOMP SNICK\n",
      "JARVY FLDXT UZBEG WINKS CHOMP\n",
      "JARVY FLDXT UZBEK GOWNS CHIMP\n",
      "JARVY FLDXT UZBEK MOWCH PINGS\n",
      "JARVY FLDXT UZBEK NOWCH GIMPS\n",
      "JARVY FLDXT UZBEK SWING CHOMP\n",
      "JARVY FLDXT UZBEK WHING COMPS\n",
      "JARVY FLDXT UZBEK WINGS CHOMP\n",
      "JARVY FLDXT ZINEB GOWKS CHUMP\n",
      "JARVY FLDXT ZINEB WHOMP GUCKS\n",
      "JARVY PBXES ZHMUD FLONG TWICK\n",
      "JAVER FLDXT ZYGON SWICK BUMPH\n",
      "JAVER FLDXT ZYGON WHICK BUMPS\n",
      "JAVER FLDXT ZYGON WICKS BUMPH\n",
      "JAVER FLDXT ZINCY GOWKS BUMPH\n",
      "JAVER FLDXT ZINGY CHOWK BUMPS\n",
      "JAVER FLDXT ZINGY WHOMP BUCKS\n",
      "JAVER FLDXT ZINGY WHUMP BOCKS\n",
      "JAVER FLDXT ZINGS CHOWK BUMPY\n",
      "JAVER FLDXT ZINGS WHOMP BUCKY\n",
      "JAZEY FLDXT CHIVW BONKS GRUMP\n"
     ]
    }
   ],
   "source": [
    "for five in fives[:100]:\n",
    "    print(five)"
   ]
  }
 ],
 "metadata": {
  "kernelspec": {
   "display_name": "Python 3 (ipykernel)",
   "language": "python",
   "name": "python3"
  },
  "language_info": {
   "codemirror_mode": {
    "name": "ipython",
    "version": 3
   },
   "file_extension": ".py",
   "mimetype": "text/x-python",
   "name": "python",
   "nbconvert_exporter": "python",
   "pygments_lexer": "ipython3",
   "version": "3.11.0"
  },
  "toc-autonumbering": false,
  "toc-showcode": false,
  "toc-showmarkdowntxt": false,
  "toc-showtags": false
 },
 "nbformat": 4,
 "nbformat_minor": 5
}
